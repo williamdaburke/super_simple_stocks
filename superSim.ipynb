{
 "cells": [
  {
   "cell_type": "code",
   "execution_count": 4,
   "metadata": {},
   "outputs": [
    {
     "name": "stdout",
     "output_type": "stream",
     "text": [
      "[[    nan     nan     nan     nan     nan]\n",
      " [    nan     nan 0.0e+00     nan 1.0e+02]\n",
      " [    nan     nan 8.0e+00     nan 1.0e+02]\n",
      " [    nan     nan 2.3e+01     nan 6.0e+01]\n",
      " [    nan     nan 8.0e+00 2.0e-02 1.0e+02]\n",
      " [    nan     nan 1.3e+01     nan 2.5e+02]]\n",
      "((0, 0), nan)\n",
      "((0, 1), nan)\n",
      "((0, 2), nan)\n",
      "((0, 3), nan)\n",
      "((0, 4), nan)\n",
      "((1, 0), nan)\n",
      "((1, 1), nan)\n",
      "((1, 2), 0.0)\n",
      "((1, 3), nan)\n",
      "((1, 4), 100.0)\n",
      "((2, 0), nan)\n",
      "((2, 1), nan)\n",
      "((2, 2), 8.0)\n",
      "((2, 3), nan)\n",
      "((2, 4), 100.0)\n",
      "((3, 0), nan)\n",
      "((3, 1), nan)\n",
      "((3, 2), 23.0)\n",
      "((3, 3), nan)\n",
      "((3, 4), 60.0)\n",
      "((4, 0), nan)\n",
      "((4, 1), nan)\n",
      "((4, 2), 8.0)\n",
      "((4, 3), 0.02)\n",
      "((4, 4), 100.0)\n",
      "((5, 0), nan)\n",
      "((5, 1), nan)\n",
      "((5, 2), 13.0)\n",
      "((5, 3), nan)\n",
      "((5, 4), 250.0)\n"
     ]
    }
   ],
   "source": [
    "import numpy as np\n",
    "\n",
    "stock_list = np.genfromtxt('stocks.csv', delimiter=',')\n",
    "\n",
    "print stock_list\n",
    "\n",
    "for row in np.ndenumerate(stock_list):\n",
    "    print row\n",
    "\n"
   ]
  },
  {
   "cell_type": "code",
   "execution_count": 16,
   "metadata": {},
   "outputs": [],
   "source": [
    "class Stock:\n",
    "    def __init__(self,stock_line):\n",
    "        self.symbol = stock_line['Symbol']\n",
    "        self.stock_type = stock_line['Type']\n",
    "        self.last_dividend = stock_line['Last Dividend']\n",
    "        self.fixed_dividend = stock_line['Fixed Dividend']\n",
    "        self.par_value = stock_line['Par Value']\n",
    "        if self.stock_type == \"Common\":\n",
    "            self.dividend = self.last_dividend\n",
    "        else :\n",
    "            self.dividend = self.fixed_dividend * self.par_value\n",
    "        \n",
    "    def div_yield(self,price):\n",
    "        return self.dividend / price\n",
    "    \n",
    "    def p_e_ratio(self,price):\n",
    "        return price / self.dividend\n"
   ]
  },
  {
   "cell_type": "code",
   "execution_count": 11,
   "metadata": {},
   "outputs": [
    {
     "data": {
      "text/html": [
       "<div>\n",
       "<style scoped>\n",
       "    .dataframe tbody tr th:only-of-type {\n",
       "        vertical-align: middle;\n",
       "    }\n",
       "\n",
       "    .dataframe tbody tr th {\n",
       "        vertical-align: top;\n",
       "    }\n",
       "\n",
       "    .dataframe thead th {\n",
       "        text-align: right;\n",
       "    }\n",
       "</style>\n",
       "<table border=\"1\" class=\"dataframe\">\n",
       "  <thead>\n",
       "    <tr style=\"text-align: right;\">\n",
       "      <th></th>\n",
       "      <th>Symbol</th>\n",
       "      <th>Type</th>\n",
       "      <th>Last Dividend</th>\n",
       "      <th>Fixed Dividend</th>\n",
       "      <th>Par Value</th>\n",
       "    </tr>\n",
       "  </thead>\n",
       "  <tbody>\n",
       "    <tr>\n",
       "      <th>0</th>\n",
       "      <td>TEA</td>\n",
       "      <td>Common</td>\n",
       "      <td>0</td>\n",
       "      <td>NaN</td>\n",
       "      <td>100</td>\n",
       "    </tr>\n",
       "    <tr>\n",
       "      <th>1</th>\n",
       "      <td>POP</td>\n",
       "      <td>Common</td>\n",
       "      <td>8</td>\n",
       "      <td>NaN</td>\n",
       "      <td>100</td>\n",
       "    </tr>\n",
       "    <tr>\n",
       "      <th>2</th>\n",
       "      <td>ALE</td>\n",
       "      <td>Common</td>\n",
       "      <td>23</td>\n",
       "      <td>NaN</td>\n",
       "      <td>60</td>\n",
       "    </tr>\n",
       "    <tr>\n",
       "      <th>3</th>\n",
       "      <td>GIN</td>\n",
       "      <td>Preferred</td>\n",
       "      <td>8</td>\n",
       "      <td>0.02</td>\n",
       "      <td>100</td>\n",
       "    </tr>\n",
       "    <tr>\n",
       "      <th>4</th>\n",
       "      <td>JOE</td>\n",
       "      <td>Common</td>\n",
       "      <td>13</td>\n",
       "      <td>NaN</td>\n",
       "      <td>250</td>\n",
       "    </tr>\n",
       "  </tbody>\n",
       "</table>\n",
       "</div>"
      ],
      "text/plain": [
       "  Symbol       Type  Last Dividend  Fixed Dividend  Par Value\n",
       "0    TEA     Common              0             NaN        100\n",
       "1    POP     Common              8             NaN        100\n",
       "2    ALE     Common             23             NaN         60\n",
       "3    GIN  Preferred              8            0.02        100\n",
       "4    JOE     Common             13             NaN        250"
      ]
     },
     "execution_count": 11,
     "metadata": {},
     "output_type": "execute_result"
    }
   ],
   "source": [
    "import pandas as pd\n",
    "df=pd.read_csv('stocks.csv', sep=',')\n",
    "df.values\n",
    "df"
   ]
  },
  {
   "cell_type": "code",
   "execution_count": 20,
   "metadata": {},
   "outputs": [
    {
     "name": "stdout",
     "output_type": "stream",
     "text": [
      "100\n",
      "100\n",
      "60\n",
      "100\n",
      "250\n",
      "16.0\n",
      "Common\n"
     ]
    }
   ],
   "source": [
    "stock_dict = {}\n",
    "\n",
    "for index, row in df.iterrows():\n",
    "    print row['Par Value']\n",
    "    stock_dict[row['Symbol']] = Stock(row)\n",
    "\n",
    "print stock_dict['POP'].div_yield(.50)\n",
    "print stock_dict['ALE'].stock_type\n",
    "    "
   ]
  },
  {
   "cell_type": "code",
   "execution_count": null,
   "metadata": {},
   "outputs": [],
   "source": []
  }
 ],
 "metadata": {
  "kernelspec": {
   "display_name": "Python 2",
   "language": "python",
   "name": "python2"
  },
  "language_info": {
   "codemirror_mode": {
    "name": "ipython",
    "version": 2
   },
   "file_extension": ".py",
   "mimetype": "text/x-python",
   "name": "python",
   "nbconvert_exporter": "python",
   "pygments_lexer": "ipython2",
   "version": "2.7.12"
  }
 },
 "nbformat": 4,
 "nbformat_minor": 2
}
