{
 "cells": [
  {
   "cell_type": "code",
   "execution_count": null,
   "metadata": {},
   "outputs": [],
   "source": [
    "# %load sup_sim.py\n",
    "from __future__ import division\n",
    "import pandas as pd\n",
    "\n",
    "stock_dict = {}\n",
    "\n",
    "class Stock:\n",
    "    def __init__(self,stock_line):\n",
    "        self.symbol = stock_line['Symbol']\n",
    "        self.stock_type = stock_line['Type']\n",
    "        self.last_dividend = stock_line['Last Dividend']\n",
    "        self.fixed_dividend = stock_line['Fixed Dividend']\n",
    "        self.par_value = stock_line['Par Value']\n",
    "        if self.stock_type == \"Common\":\n",
    "            self.dividend = self.last_dividend\n",
    "        else :\n",
    "            self.dividend = self.fixed_dividend * self.par_value\n",
    "        \n",
    "    def div_yield(self,price):\n",
    "        return self.dividend / price\n",
    "    \n",
    "    def p_e_ratio(self,price):\n",
    "        return float(price / self.dividend)\n",
    "\n",
    "if __name__== \"__main__\":\n",
    "  df = pd.read_csv('stocks.csv', sep=',')\n",
    "  for index, row in df.iterrows():\n",
    "      stock_dict[row['Symbol']] = Stock(row)\n",
    "  \n",
    "  print stock_dict['ALE'].stock_type"
   ]
  },
  {
   "cell_type": "code",
   "execution_count": 42,
   "metadata": {},
   "outputs": [
    {
     "name": "stdout",
     "output_type": "stream",
     "text": [
      "Common\n",
      "8\n",
      "2.5\n"
     ]
    },
    {
     "data": {
      "text/plain": [
       "'2.50'"
      ]
     },
     "execution_count": 42,
     "metadata": {},
     "output_type": "execute_result"
    }
   ],
   "source": [
    "%run sup_sim.py\n",
    "print stock_dict['POP'].dividend\n",
    "print stock_dict['POP'].p_e_ratio(20)\n"
   ]
  },
  {
   "cell_type": "code",
   "execution_count": 43,
   "metadata": {},
   "outputs": [
    {
     "name": "stdout",
     "output_type": "stream",
     "text": [
      "2.0\n"
     ]
    }
   ],
   "source": [
    "print stock_dict['GIN'].dividend"
   ]
  },
  {
   "cell_type": "code",
   "execution_count": null,
   "metadata": {},
   "outputs": [],
   "source": []
  }
 ],
 "metadata": {
  "kernelspec": {
   "display_name": "Python 2",
   "language": "python",
   "name": "python2"
  },
  "language_info": {
   "codemirror_mode": {
    "name": "ipython",
    "version": 2
   },
   "file_extension": ".py",
   "mimetype": "text/x-python",
   "name": "python",
   "nbconvert_exporter": "python",
   "pygments_lexer": "ipython2",
   "version": "2.7.12"
  }
 },
 "nbformat": 4,
 "nbformat_minor": 2
}
