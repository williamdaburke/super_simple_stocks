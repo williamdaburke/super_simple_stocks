{
 "cells": [
  {
   "cell_type": "code",
   "execution_count": null,
   "metadata": {
    "scrolled": true
   },
   "outputs": [],
   "source": []
  },
  {
   "cell_type": "code",
   "execution_count": 1,
   "metadata": {},
   "outputs": [
    {
     "name": "stdout",
     "output_type": "stream",
     "text": [
      "2018-09-17 15:59:02.334977\n",
      "             Type  Last Dividend  Fixed Dividend  Par Value  Shares    VWSP\n",
      "Symbol                                                                     \n",
      "TEA        Common              0             NaN        100     232  23.409\n",
      "POP        Common              8             NaN        100      88    None\n",
      "ALE        Common             23             NaN         60      20      10\n",
      "GIN     Preferred              8            0.02        100      74  79.544\n",
      "JOE        Common             13             NaN        250      30      30\n",
      "               Execution Time Indicator Symbol Volume Price\n",
      "0  2018-09-17 16:05:02.335720       Buy    GIN     25    71\n",
      "1  2018-09-17 16:09:02.321258      Sell    GIN      7    87\n",
      "2  2018-09-17 16:09:02.321258       Buy    TEA     15    20\n",
      "3  2018-09-17 15:59:02.371565       Buy    GIN     55    55\n",
      "4  2018-09-17 15:56:02.382636      Sell    GIN      7    85\n",
      "5  2018-09-17 16:09:02.321258       Buy    TEA     40    25\n",
      "6  2018-09-17 16:09:02.321258       Buy    TEA     50    21\n",
      "7  2018-09-17 16:09:02.321258       Buy    TEA     70    29\n",
      "8  2018-09-17 16:09:02.321258       Buy    TEA     37    23\n",
      "9  2018-09-17 16:09:02.321258       Buy    GIN     45    77\n",
      "10 2018-09-17 16:09:02.321258      Sell    GIN     37    87\n",
      "11 2018-09-17 16:09:02.321258       Buy    TEA     20    10\n",
      "12 2018-09-17 16:09:02.321258       Buy    ALE     20    10\n",
      "13 2018-09-17 15:39:02.550996       Buy    POP     44    40\n",
      "14 2018-09-17 15:38:02.562315       Buy    POP     44    40\n",
      "15 2018-09-17 16:09:02.321258       Buy    JOE     30    30\n",
      "**************************\n",
      "27.3387016607\n",
      "None\n",
      "**************************\n"
     ]
    }
   ],
   "source": [
    "\n",
    "\n",
    "\n",
    "from utils import *\n",
    "\n",
    "from Stock_Portfolio_Tool import Stock_Portfolio_Tool\n",
    "\n",
    "from scipy.stats.mstats import gmean\n",
    "import datetime\n",
    "\n",
    "stp = Stock_Portfolio_Tool()\n",
    "\n",
    "ten_min_ago = datetime.datetime.now() - datetime.timedelta(minutes=10)\n",
    "print ten_min_ago\n",
    "\n",
    "stp.record_a_trade('Buy','GIN',25,71,minutes_ago(4))\n",
    "stp.record_a_trade('SELL','gin',7,87)\n",
    "stp.record_a_trade('buy','tea',15,20)\n",
    "stp.record_a_trade('BUY','GIN',55,55,minutes_ago(10))\n",
    "stp.record_a_trade('Sell','GIN',7,85,minutes_ago(13))\n",
    "stp.record_a_trade('Buy','TEA',40,25)\n",
    "stp.record_a_trade('Buy','TEA',50,21)\n",
    "stp.record_a_trade('Buy','tea',70,29)\n",
    "stp.record_a_trade('Buy','TEA',37,23)\n",
    "stp.record_a_trade('buy','GIN',45,77)\n",
    "stp.record_a_trade('sell','GIN',37,87)\n",
    "stp.record_a_trade('bUY','Tea',20,10)\n",
    "stp.record_a_trade('Buy','ale',20,10)\n",
    "stp.record_a_trade('bUY','pop',44,40,minutes_ago(30))\n",
    "stp.record_a_trade('bUY','pop',44,40,minutes_ago(31))\n",
    "stp.record_a_trade('BUY','JOE',30,30)\n",
    "\n",
    "\n",
    "#print stp.get_a_dividend_yield('ALE',95), stp.get_a_pe_ratio('ALE',95)\n",
    "print stp.portfolio_df  #.loc[['TEA']][['Shares']]\n",
    "print stp.transactions_df\n",
    "stp.get_vwsp('GIN')\n",
    "stp.transactions_df\n",
    "print \"**************************\"\n",
    "print stp.get_GBCE_all_share_index()\n",
    "print \"**************************\"\n",
    "#gmean(stp.portfolio_df.loc[:,\"VWSP\"])"
   ]
  },
  {
   "cell_type": "code",
   "execution_count": 2,
   "metadata": {},
   "outputs": [
    {
     "name": "stdout",
     "output_type": "stream",
     "text": [
      "vwsp of tea   23.409\n",
      "pe of pop   8.75\n",
      "dy of gin   2.50%\n",
      "10.00%\n",
      "             Type  Last Dividend  Fixed Dividend  Par Value  Shares    VWSP\n",
      "Symbol                                                                     \n",
      "TEA        Common              0             NaN        100     232  23.409\n",
      "POP        Common              8             NaN        100      88    None\n",
      "ALE        Common             23             NaN         60      20      10\n",
      "GIN     Preferred              8            0.02        100      74  79.544\n",
      "JOE        Common             13             NaN        250      30      30\n",
      "             Type  Last Dividend  Fixed Dividend  Par Value  Shares    VWSP\n",
      "Symbol                                                                     \n",
      "TEA        Common              0             NaN        100     232  23.409\n",
      "ALE        Common             23             NaN         60      20      10\n",
      "GIN     Preferred              8            0.02        100      74  79.544\n",
      "JOE        Common             13             NaN        250      30      30\n",
      "[23.409 None 10.0 79.544 30.0]\n",
      "[23.409 10.0 79.544 30.0]\n",
      "27.3387016607\n",
      "27.3387016607\n",
      "None\n"
     ]
    }
   ],
   "source": [
    "import numpy as np\n",
    "print \"vwsp of tea   \"+ str(stp.get_vwsp('tea'))\n",
    "print \"pe of pop   \"+ str(stp.get_a_pe_ratio('POP',70))\n",
    "print \"dy of gin   \"+ str(stp.get_a_dividend_yield('GIN',80))\n",
    "print stp.get_a_dividend_yield('POP',80)\n",
    "print stp.portfolio_df\n",
    "print stp.portfolio_df.loc[stp.portfolio_df['VWSP'] > 0]\n",
    "print np.array(stp.portfolio_df['VWSP'])\n",
    "print np.array(stp.portfolio_df.loc[stp.portfolio_df['VWSP'] > 0]['VWSP'])\n",
    "a = np.array(stp.portfolio_df.loc[stp.portfolio_df['VWSP'] > 0]['VWSP'])\n",
    "print a.prod()**(1.0/len(a))\n",
    "#stp.portfolio_df.loc[stp.portfolio_df['VWSP'] > 0].as_matrix(columns='VWSP')\n",
    "print stp.get_GBCE_all_share_index()"
   ]
  },
  {
   "cell_type": "code",
   "execution_count": null,
   "metadata": {},
   "outputs": [],
   "source": []
  },
  {
   "cell_type": "code",
   "execution_count": 3,
   "metadata": {},
   "outputs": [
    {
     "data": {
      "text/plain": [
       "2.0"
      ]
     },
     "execution_count": 3,
     "metadata": {},
     "output_type": "execute_result"
    }
   ],
   "source": [
    ".02*100"
   ]
  },
  {
   "cell_type": "code",
   "execution_count": 4,
   "metadata": {},
   "outputs": [
    {
     "name": "stdout",
     "output_type": "stream",
     "text": [
      "0.025\n",
      "2.0\n",
      "0.1\n"
     ]
    }
   ],
   "source": [
    "from __future__ import division\n",
    "\n",
    "print .02*100/80\n",
    "print .02*100\n",
    "print 8/80"
   ]
  },
  {
   "cell_type": "code",
   "execution_count": null,
   "metadata": {},
   "outputs": [],
   "source": []
  }
 ],
 "metadata": {
  "kernelspec": {
   "display_name": "Python 2",
   "language": "python",
   "name": "python2"
  },
  "language_info": {
   "codemirror_mode": {
    "name": "ipython",
    "version": 2
   },
   "file_extension": ".py",
   "mimetype": "text/x-python",
   "name": "python",
   "nbconvert_exporter": "python",
   "pygments_lexer": "ipython2",
   "version": "2.7.12"
  }
 },
 "nbformat": 4,
 "nbformat_minor": 2
}
